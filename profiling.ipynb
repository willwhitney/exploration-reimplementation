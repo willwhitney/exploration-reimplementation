{
 "cells": [
  {
   "cell_type": "code",
   "execution_count": 1,
   "metadata": {},
   "outputs": [],
   "source": [
    "import os\n",
    "os.environ['CUDA_VISIBLE_DEVICES'] = '3'\n",
    "os.environ['XLA_PYTHON_CLIENT_PREALLOCATE'] = 'false'\n",
    "# os.environ['CUDA_VISIBLE_DEVICES']"
   ]
  },
  {
   "cell_type": "code",
   "execution_count": 2,
   "metadata": {},
   "outputs": [],
   "source": [
    "from jax import numpy as jnp, profiler, random"
   ]
  },
  {
   "cell_type": "code",
   "execution_count": 3,
   "metadata": {},
   "outputs": [
    {
     "data": {
      "text/plain": [
       "<jaxlib.xla_extension.profiler.ProfilerServer at 0x7f36443d49d0>"
      ]
     },
     "execution_count": 3,
     "metadata": {},
     "output_type": "execute_result"
    }
   ],
   "source": [
    "profiler.start_server(9999)"
   ]
  },
  {
   "cell_type": "code",
   "execution_count": null,
   "metadata": {
    "scrolled": false
   },
   "outputs": [
    {
     "name": "stdout",
     "output_type": "stream",
     "text": [
      "Namespace(debug=False, density='kernel_count', density_action_scale=1.0, density_state_scale=0.1, env='point', env_size=20, eval_every=1, max_steps=100, n_action_bins=2, n_state_bins=20, n_update_candidates=64, name='derp', novelty_q_function='deep', optimistic_actions=True, optimistic_updates=True, policy='deep', policy_lr=0.001, policy_temperature=0.3, policy_test_temperature=0.1, policy_update='ddqn', prior_count=0.001, prioritized_update=False, save_replay_every=10, seed=0, target_network=True, task='velocity', temperature=0.1, update_target_every=10, update_temperature=None, use_exploration=True, vis='disk', warmup_steps=128)\n",
      "Using --temperature as --update_temperature.\n"
     ]
    },
    {
     "name": "stderr",
     "output_type": "stream",
     "text": [
      "/home/will/anaconda3/lib/python3.7/site-packages/jax/lax/lax.py:5905: UserWarning: Explicitly requested dtype <class 'int'> requested in astype is not available, and will be truncated to dtype int32. To enable more dtypes, set the jax_enable_x64 configuration option or the JAX_ENABLE_X64 shell environment variable. See https://github.com/google/jax#current-gotchas for more.\n",
      "  warnings.warn(msg.format(dtype, fun_name , truncated_dtype))\n"
     ]
    },
    {
     "name": "stdout",
     "output_type": "stream",
     "text": [
      "Episode    1, Train score    0, Train nov score   27, Test score    0, Test nov score   20, Test policy ent  0.00, Time  0.00, Density size    70\n"
     ]
    },
    {
     "name": "stderr",
     "output_type": "stream",
     "text": [
      "/home/will/anaconda3/lib/python3.7/site-packages/jax/numpy/lax_numpy.py:1621: FutureWarning: jax.numpy reductions won't accept lists and tuples in future versions, only scalars and ndarrays\n",
      "  warnings.warn(msg, category=FutureWarning)\n",
      "/home/will/anaconda3/lib/python3.7/site-packages/itermplot/__init__.py:243: MatplotlibDeprecationWarning: savefig() got unexpected keyword argument \"dpi\" which is no longer supported as of 3.3 and will become an error two minor releases later\n",
      "  FigureCanvasAgg.print_png(self, filename, **kwargs)\n",
      "/home/will/anaconda3/lib/python3.7/site-packages/itermplot/__init__.py:243: MatplotlibDeprecationWarning: savefig() got unexpected keyword argument \"facecolor\" which is no longer supported as of 3.3 and will become an error two minor releases later\n",
      "  FigureCanvasAgg.print_png(self, filename, **kwargs)\n",
      "/home/will/anaconda3/lib/python3.7/site-packages/itermplot/__init__.py:243: MatplotlibDeprecationWarning: savefig() got unexpected keyword argument \"edgecolor\" which is no longer supported as of 3.3 and will become an error two minor releases later\n",
      "  FigureCanvasAgg.print_png(self, filename, **kwargs)\n",
      "/home/will/anaconda3/lib/python3.7/site-packages/itermplot/__init__.py:243: MatplotlibDeprecationWarning: savefig() got unexpected keyword argument \"orientation\" which is no longer supported as of 3.3 and will become an error two minor releases later\n",
      "  FigureCanvasAgg.print_png(self, filename, **kwargs)\n",
      "/home/will/anaconda3/lib/python3.7/site-packages/itermplot/__init__.py:243: MatplotlibDeprecationWarning: savefig() got unexpected keyword argument \"bbox_inches_restore\" which is no longer supported as of 3.3 and will become an error two minor releases later\n",
      "  FigureCanvasAgg.print_png(self, filename, **kwargs)\n"
     ]
    },
    {
     "name": "stdout",
     "output_type": "stream",
     "text": [
      "Episode    2, Train score    0, Train nov score   20, Test score    0, Test nov score   16, Test policy ent  3.46, Time 31.41, Density size   147\n",
      "Episode    3, Train score    0, Train nov score   14, Test score    0, Test nov score   12, Test policy ent  3.46, Time 76.23, Density size   203\n",
      "Episode    4, Train score    0, Train nov score   21, Test score    0, Test nov score   10, Test policy ent  3.46, Time 91.12, Density size   257\n",
      "Episode    5, Train score    0, Train nov score   15, Test score    0, Test nov score   14, Test policy ent  3.46, Time 80.64, Density size   309\n",
      "Episode    6, Train score    0, Train nov score   28, Test score    0, Test nov score   11, Test policy ent  3.46, Time 76.60, Density size   356\n",
      "Episode    7, Train score    0, Train nov score   19, Test score    0, Test nov score   12, Test policy ent  3.46, Time 71.86, Density size   398\n"
     ]
    }
   ],
   "source": [
    "%run main.py --eval_every 1 --env point --task velocity --max_steps 100 --density kernel_count --density_state_scale 0.1 --density_action_scale 1 --name derp"
   ]
  },
  {
   "cell_type": "code",
   "execution_count": null,
   "metadata": {
    "scrolled": false
   },
   "outputs": [],
   "source": [
    "%run main.py --eval_every 1 --env cartpole --task swingup_sparse --density kernel_count --density_state_scale 1e-2 --density_action_scale 1e-1 --max_steps 1000 --name kcount_memory_debug"
   ]
  },
  {
   "cell_type": "code",
   "execution_count": null,
   "metadata": {},
   "outputs": [],
   "source": [
    "%run main.py --eval_every 1 --env point --task velocity --density tabular --max_steps 100 --name tab_memory_debug"
   ]
  },
  {
   "cell_type": "code",
   "execution_count": null,
   "metadata": {},
   "outputs": [],
   "source": []
  }
 ],
 "metadata": {
  "kernelspec": {
   "display_name": "Python 3",
   "language": "python",
   "name": "python3"
  },
  "language_info": {
   "codemirror_mode": {
    "name": "ipython",
    "version": 3
   },
   "file_extension": ".py",
   "mimetype": "text/x-python",
   "name": "python",
   "nbconvert_exporter": "python",
   "pygments_lexer": "ipython3",
   "version": "3.7.3"
  }
 },
 "nbformat": 4,
 "nbformat_minor": 2
}
