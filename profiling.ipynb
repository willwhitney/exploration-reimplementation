{
 "cells": [
  {
   "cell_type": "code",
   "execution_count": 1,
   "metadata": {},
   "outputs": [],
   "source": [
    "import os\n",
    "os.environ['CUDA_VISIBLE_DEVICES'] = '3'"
   ]
  },
  {
   "cell_type": "code",
   "execution_count": 2,
   "metadata": {},
   "outputs": [],
   "source": [
    "from jax import numpy as jnp, profiler, random"
   ]
  },
  {
   "cell_type": "code",
   "execution_count": 3,
   "metadata": {},
   "outputs": [
    {
     "data": {
      "text/plain": [
       "<jaxlib.xla_extension.profiler.ProfilerServer at 0x7f22c035a340>"
      ]
     },
     "execution_count": 3,
     "metadata": {},
     "output_type": "execute_result"
    }
   ],
   "source": [
    "profiler.start_server(9999)"
   ]
  },
  {
   "cell_type": "code",
   "execution_count": 4,
   "metadata": {},
   "outputs": [],
   "source": [
    "# %run minimal_test.py"
   ]
  },
  {
   "cell_type": "code",
   "execution_count": 5,
   "metadata": {
    "scrolled": false
   },
   "outputs": [],
   "source": [
    "# %run main.py --no_prioritized_update --eval_every 1 --name point_mass --env point_mass --task easy --vis none"
   ]
  },
  {
   "cell_type": "code",
   "execution_count": 6,
   "metadata": {},
   "outputs": [],
   "source": [
    "# %run simpler_test.py"
   ]
  },
  {
   "cell_type": "code",
   "execution_count": 7,
   "metadata": {},
   "outputs": [],
   "source": [
    "# %run minimaler_test.py"
   ]
  },
  {
   "cell_type": "code",
   "execution_count": null,
   "metadata": {},
   "outputs": [
    {
     "name": "stderr",
     "output_type": "stream",
     "text": [
      "/home/will/anaconda3/lib/python3.7/site-packages/jax/lax/lax.py:5905: UserWarning: Explicitly requested dtype <class 'int'> requested in astype is not available, and will be truncated to dtype int32. To enable more dtypes, set the jax_enable_x64 configuration option or the JAX_ENABLE_X64 shell environment variable. See https://github.com/google/jax#current-gotchas for more.\n",
      "  warnings.warn(msg.format(dtype, fun_name , truncated_dtype))\n"
     ]
    },
    {
     "name": "stdout",
     "output_type": "stream",
     "text": [
      "Episode    1, Train score   0, Train novelty score 249, Test score   0, Test novelty score 165\n",
      "Episode    2, Train score   0, Train novelty score  75, Test score   0, Test novelty score 971\n",
      "Episode    3, Train score   0, Train novelty score  66, Test score   0, Test novelty score  54\n",
      "Episode    4, Train score   0, Train novelty score  40, Test score   0, Test novelty score  53\n",
      "Episode    5, Train score   0, Train novelty score  29, Test score   0, Test novelty score  31\n",
      "Episode    6, Train score   0, Train novelty score  33, Test score   0, Test novelty score  31\n",
      "Episode    7, Train score   0, Train novelty score  19, Test score   0, Test novelty score  31\n",
      "Episode    8, Train score   0, Train novelty score  18, Test score   0, Test novelty score  31\n",
      "Episode    9, Train score   0, Train novelty score  15, Test score   0, Test novelty score  25\n",
      "Episode   10, Train score   0, Train novelty score  13, Test score   0, Test novelty score  29\n"
     ]
    }
   ],
   "source": [
    "%run main.py --no_prioritized_update --eval_every 1 --env gridworld --task default"
   ]
  },
  {
   "cell_type": "code",
   "execution_count": null,
   "metadata": {},
   "outputs": [],
   "source": []
  }
 ],
 "metadata": {
  "kernelspec": {
   "display_name": "Python 3",
   "language": "python",
   "name": "python3"
  },
  "language_info": {
   "codemirror_mode": {
    "name": "ipython",
    "version": 3
   },
   "file_extension": ".py",
   "mimetype": "text/x-python",
   "name": "python",
   "nbconvert_exporter": "python",
   "pygments_lexer": "ipython3",
   "version": "3.7.3"
  }
 },
 "nbformat": 4,
 "nbformat_minor": 2
}
