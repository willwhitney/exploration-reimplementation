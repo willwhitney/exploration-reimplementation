{
 "cells": [
  {
   "cell_type": "code",
   "execution_count": 1,
   "metadata": {},
   "outputs": [
    {
     "data": {
      "text/html": [
       "<style>.container { width:100% !important; }</style>"
      ],
      "text/plain": [
       "<IPython.core.display.HTML object>"
      ]
     },
     "metadata": {},
     "output_type": "display_data"
    }
   ],
   "source": [
    "from IPython.core.display import display, HTML\n",
    "display(HTML(\"<style>.container { width:100% !important; }</style>\"))"
   ]
  },
  {
   "cell_type": "code",
   "execution_count": 1,
   "metadata": {},
   "outputs": [],
   "source": [
    "import os\n",
    "os.environ['CUDA_VISIBLE_DEVICES'] = '3'\n",
    "os.environ['XLA_PYTHON_CLIENT_PREALLOCATE'] = 'false'\n",
    "# os.environ['CUDA_VISIBLE_DEVICES']"
   ]
  },
  {
   "cell_type": "code",
   "execution_count": 2,
   "metadata": {},
   "outputs": [],
   "source": [
    "from jax import numpy as jnp, profiler, random"
   ]
  },
  {
   "cell_type": "code",
   "execution_count": 3,
   "metadata": {},
   "outputs": [
    {
     "data": {
      "text/plain": [
       "<jaxlib.xla_extension.profiler.ProfilerServer at 0x7fc25c409998>"
      ]
     },
     "execution_count": 3,
     "metadata": {},
     "output_type": "execute_result"
    }
   ],
   "source": [
    "profiler.start_server(9999)"
   ]
  },
  {
   "cell_type": "code",
   "execution_count": null,
   "metadata": {
    "scrolled": false
   },
   "outputs": [
    {
     "name": "stdout",
     "output_type": "stream",
     "text": [
      "Namespace(debug=False, density='dummy', density_action_scale=1.0, density_max_obs=4096.0, density_state_scale=0.1, density_tolerance=0.95, env='hopper', env_size=20, eval_every=1, max_steps=1000, n_action_bins=2, n_state_bins=20, n_update_candidates=64, n_updates_per_step=10, name='derp', novelty_q_function='deep', optimistic_actions=True, optimistic_updates=True, policy='sac', policy_lr=0.001, policy_temperature=0.3, policy_test_temperature=0.1, policy_update='ddqn', prior_count=0.001, save_replay_every=10, seed=0, target_network=True, task='hop', temperature=0.1, uniform_update_candidates=True, update_target_every=10, update_temperature=None, use_exploration=True, vis='disk', warmup_steps=128)\n",
      "Using --temperature as --update_temperature.\n",
      "CUDA_VISIBLE_DEVICES=3\n",
      "Episode    1, Train score    0, Train nov score 1000, Test score    0, Test nov score 1000, Test policy ent  0.00, Time   0.00, Density size     0\n",
      "Episode    2, Train score    0, Train nov score 1000, Test score    0, Test nov score 1000, Test policy ent  0.00, Time 193.43, Density size     0\n",
      "Episode    3, Train score    0, Train nov score 1000, Test score    0, Test nov score 1000, Test policy ent  0.00, Time 185.51, Density size     0\n"
     ]
    }
   ],
   "source": [
    "%run main_jit_density.py --eval_every 1 --env hopper --task hop --max_steps 1000 --policy sac --density dummy --density_state_scale 0.1 --density_action_scale 1 --uniform_update_candidates --eval_every 1 --density_max_obs 4096 --name derp"
   ]
  },
  {
   "cell_type": "code",
   "execution_count": null,
   "metadata": {},
   "outputs": [],
   "source": []
  }
 ],
 "metadata": {
  "kernelspec": {
   "display_name": "Python 3",
   "language": "python",
   "name": "python3"
  },
  "language_info": {
   "codemirror_mode": {
    "name": "ipython",
    "version": 3
   },
   "file_extension": ".py",
   "mimetype": "text/x-python",
   "name": "python",
   "nbconvert_exporter": "python",
   "pygments_lexer": "ipython3",
   "version": "3.7.3"
  }
 },
 "nbformat": 4,
 "nbformat_minor": 2
}
